{
 "cells": [
  {
   "cell_type": "code",
   "execution_count": null,
   "metadata": {
    "ExecuteTime": {
     "end_time": "2020-12-23T09:00:07.360274Z",
     "start_time": "2020-12-23T09:00:07.357492Z"
    }
   },
   "outputs": [],
   "source": [
    "import pandas as pd\n",
    "from datetime import datetime\n",
    "import numpy as np"
   ]
  },
  {
   "cell_type": "code",
   "execution_count": null,
   "metadata": {
    "ExecuteTime": {
     "end_time": "2020-12-23T10:27:52.669659Z",
     "start_time": "2020-12-23T10:27:52.189725Z"
    }
   },
   "outputs": [],
   "source": [
    "parser = lambda x: datetime.strptime(x,'%Y-%m-%d %X') \n",
    "df_style = pd.read_csv('style_data.csv',\n",
    "                             index_col=0,parse_dates =['created_at'], date_parser=parser)\n",
    "\n",
    "df_bow = pd.read_csv(\"bag of words_02.csv\",\n",
    "                             index_col=0,parse_dates =['created_at'], date_parser=parser)\n",
    "# assert that dataframes are of same length and the the indexes are the same\n",
    "assert len(df_style) == len(df_bow) \n",
    "assert (df_style.index != df_bow.index).any()==False"
   ]
  },
  {
   "cell_type": "code",
   "execution_count": null,
   "metadata": {
    "ExecuteTime": {
     "end_time": "2020-12-23T10:27:52.672127Z",
     "start_time": "2020-12-23T10:27:52.567Z"
    }
   },
   "outputs": [],
   "source": [
    "del_for_each = [\"created_at\",\"text\",\"date\"]\n",
    "del_topic = del_for_each +['tokens', 'tokens_back_to_text', 'lemmas', 'lemmas_back_to_text', 'lemma_tokens']\n",
    "df_style.drop(del_for_each,axis=1, inplace=True)\n",
    "df_bow.drop(del_topic,axis=1, inplace=True)"
   ]
  },
  {
   "cell_type": "code",
   "execution_count": null,
   "metadata": {
    "ExecuteTime": {
     "end_time": "2020-12-23T08:56:04.287390Z",
     "start_time": "2020-12-23T08:56:04.172212Z"
    }
   },
   "outputs": [],
   "source": [
    "df_all_features = pd.concat([df_style,df_bow],axis=1)\n",
    "# remove duplicated columns (agency)\n",
    "df_all_features = df_all_features.loc[:, ~df_all_features.columns.duplicated()] "
   ]
  },
  {
   "cell_type": "code",
   "execution_count": null,
   "metadata": {
    "ExecuteTime": {
     "end_time": "2020-12-23T08:56:04.333863Z",
     "start_time": "2020-12-23T08:56:04.329225Z"
    }
   },
   "outputs": [],
   "source": [
    "df_all_features.columns"
   ]
  },
  {
   "cell_type": "code",
   "execution_count": null,
   "metadata": {
    "ExecuteTime": {
     "end_time": "2020-12-23T08:56:04.515924Z",
     "start_time": "2020-12-23T08:56:04.480677Z"
    }
   },
   "outputs": [],
   "source": [
    "# how to get only the one feature set\n",
    "df_all_features[df_bow.columns] # df_all_features.columns or df_bow.columns"
   ]
  },
  {
   "cell_type": "code",
   "execution_count": null,
   "metadata": {
    "ExecuteTime": {
     "end_time": "2020-12-23T08:56:05.602995Z",
     "start_time": "2020-12-23T08:56:04.598723Z"
    }
   },
   "outputs": [],
   "source": [
    "df_all_features.to_csv(\"23_0815_all_features_02_threshols.csv\")"
   ]
  }
 ],
 "metadata": {
  "kernelspec": {
   "display_name": "Python 3",
   "language": "python",
   "name": "python3"
  },
  "language_info": {
   "codemirror_mode": {
    "name": "ipython",
    "version": 3
   },
   "file_extension": ".py",
   "mimetype": "text/x-python",
   "name": "python",
   "nbconvert_exporter": "python",
   "pygments_lexer": "ipython3",
   "version": "3.8.5"
  }
 },
 "nbformat": 4,
 "nbformat_minor": 4
}
